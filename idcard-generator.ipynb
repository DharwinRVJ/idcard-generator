{
 "cells": [
  {
   "cell_type": "code",
   "execution_count": 1,
   "metadata": {},
   "outputs": [],
   "source": [
    "#imports\n",
    "from PIL import Image,ImageDraw,ImageFont\n",
    "import random\n",
    "import os\n",
    "import datetime\n",
    "import qrcode"
   ]
  },
  {
   "cell_type": "code",
   "execution_count": 2,
   "metadata": {},
   "outputs": [],
   "source": [
    "#creating empty image\n",
    "image=Image.new('RGB',(1500,1000),(255,255,255))\n",
    "draw=ImageDraw.Draw(image)"
   ]
  },
  {
   "cell_type": "code",
   "execution_count": 3,
   "metadata": {},
   "outputs": [
    {
     "data": {
      "text/plain": [
       "32512"
      ]
     },
     "execution_count": 3,
     "metadata": {},
     "output_type": "execute_result"
    }
   ],
   "source": [
    "font=ImageFont.truetype('arial.ttf',size=45)\n",
    "os.system('ID Card Generator')"
   ]
  },
  {
   "cell_type": "code",
   "execution_count": 4,
   "metadata": {},
   "outputs": [
    {
     "name": "stdout",
     "output_type": "stream",
     "text": [
      "21-01-2021\t ID Card Generator\t 09:43:15 AM\n"
     ]
    }
   ],
   "source": [
    "date=datetime.datetime.now()\n",
    "date_format=date.strftime('%d-%m-%Y\\t ID Card Generator\\t %I:%M:%S %p')\n",
    "print(date_format)"
   ]
  },
  {
   "cell_type": "code",
   "execution_count": 5,
   "metadata": {},
   "outputs": [
    {
     "name": "stdout",
     "output_type": "stream",
     "text": [
      "All Fields are Mandotary\n",
      "Avoid any kind of Spelling Mistake\n",
      "Write Everything in UpperCase Letters\n"
     ]
    }
   ],
   "source": [
    "print('All Fields are Mandotary')\n",
    "print('Avoid any kind of Spelling Mistake')\n",
    "print('Write Everything in UpperCase Letters')\n",
    "#company=input('\\nEnter Your Company Name:')\n",
    "company='Dharwin Inc.,'\n",
    "font=ImageFont.truetype('arial.ttf',size=80)\n",
    "draw.text((500,40),company.upper(),fill='rgb(0,0,0)',font=font)"
   ]
  },
  {
   "cell_type": "code",
   "execution_count": 6,
   "metadata": {},
   "outputs": [],
   "source": [
    "font=ImageFont.truetype('arial.ttf',size=60)\n",
    "rand_id=random.randint(1000000,90000000)\n",
    "idno=str(rand_id)\n",
    "id_num=str('ID: '+idno)\n",
    "draw.text((50,150),id_num,fill='rgb(0,0,0)',font=font)"
   ]
  },
  {
   "cell_type": "code",
   "execution_count": 7,
   "metadata": {},
   "outputs": [
    {
     "name": "stdin",
     "output_type": "stream",
     "text": [
      "Enter Your Full Name:  dwin\n"
     ]
    }
   ],
   "source": [
    "name=input('Enter Your Full Name: ')\n",
    "name=('Gender: '+name.upper())\n",
    "draw.text((50,250),name,fill='rgb(0,0,0)',font=font)"
   ]
  },
  {
   "cell_type": "code",
   "execution_count": 8,
   "metadata": {},
   "outputs": [
    {
     "name": "stdin",
     "output_type": "stream",
     "text": [
      "Enter Your Gender:  male\n",
      "Enter Your Age:  18\n",
      "Enter Your DOB(DD/MM/YY):  14/02/2002\n",
      "Enter Your Blood Group:  ab+\n",
      "Enter Your Mobile Number:  1234567890\n",
      "Enter Your Address:  madurai\n"
     ]
    }
   ],
   "source": [
    "gender=input('Enter Your Gender: ')\n",
    "gender=('Gender: '+gender.upper())\n",
    "draw.text((50,350),gender,fill='rgb(0,0,0)',font=font)\n",
    "age=int(input('Enter Your Age: '))\n",
    "age=('Age: '+str(age))\n",
    "draw.text((50,450),age,fill='rgb(0,0,0)',font=font)\n",
    "dob=input('Enter Your DOB(DD/MM/YY): ')\n",
    "dob=('DOB: '+dob.upper())\n",
    "draw.text((50,550),dob,fill='rgb(0,0,0)',font=font)\n",
    "bloodgrp=input('Enter Your Blood Group: ')\n",
    "bloodgrp=('Blood Group: '+bloodgrp.upper())\n",
    "draw.text((50,650),bloodgrp,fill='rgb(250,0,0)',font=font)\n",
    "phno=int(input('Enter Your Mobile Number: '))\n",
    "phno=('Mobile: '+str(phno))\n",
    "draw.text((50,750),phno,fill='rgb(0,0,0)',font=font)\n",
    "address=input('Enter Your Address: ')\n",
    "address=('Address: '+address.upper())\n",
    "draw.text((50,850),address,fill='rgb(0,0,0)',font=font)"
   ]
  },
  {
   "cell_type": "code",
   "execution_count": 9,
   "metadata": {},
   "outputs": [],
   "source": [
    "image.save(idno+'.png')"
   ]
  },
  {
   "cell_type": "code",
   "execution_count": 10,
   "metadata": {},
   "outputs": [],
   "source": [
    "img=qrcode.make(company+'-'+str(idno))\n",
    "img.save(idno+'.bmp')"
   ]
  },
  {
   "cell_type": "code",
   "execution_count": 11,
   "metadata": {},
   "outputs": [],
   "source": [
    "id_img=Image.open(idno+'.png')\n",
    "qr_img=Image.open(idno+'.bmp')\n",
    "id_img.paste(qr_img,(1000,130))\n",
    "id_img.save(idno+'.png')"
   ]
  },
  {
   "cell_type": "code",
   "execution_count": 12,
   "metadata": {},
   "outputs": [
    {
     "name": "stdout",
     "output_type": "stream",
     "text": [
      "Your ID Card Successfully created in PNG file 61453392.png\n"
     ]
    },
    {
     "name": "stdin",
     "output_type": "stream",
     "text": [
      "Press any key to Exit..... 1\n"
     ]
    },
    {
     "data": {
      "text/plain": [
       "1"
      ]
     },
     "execution_count": 12,
     "metadata": {},
     "output_type": "execute_result"
    }
   ],
   "source": [
    "print('Your ID Card Successfully created in PNG file '+idno+'.png')\n",
    "eval(input('Press any key to Exit.....'))"
   ]
  }
 ],
 "metadata": {
  "kernelspec": {
   "display_name": "Python 3",
   "language": "python",
   "name": "python3"
  },
  "language_info": {
   "codemirror_mode": {
    "name": "ipython",
    "version": 3
   },
   "file_extension": ".py",
   "mimetype": "text/x-python",
   "name": "python",
   "nbconvert_exporter": "python",
   "pygments_lexer": "ipython3",
   "version": "3.8.5"
  }
 },
 "nbformat": 4,
 "nbformat_minor": 4
}